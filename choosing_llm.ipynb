{
 "cells": [
  {
   "cell_type": "code",
   "execution_count": 1,
   "metadata": {},
   "outputs": [
    {
     "name": "stderr",
     "output_type": "stream",
     "text": [
      "c:\\Users\\krish\\Downloads\\Jayant\\Chatbot\\ChatbotV1\\ChatbotV1\\chatbot1\\Lib\\site-packages\\tqdm\\auto.py:21: TqdmWarning: IProgress not found. Please update jupyter and ipywidgets. See https://ipywidgets.readthedocs.io/en/stable/user_install.html\n",
      "  from .autonotebook import tqdm as notebook_tqdm\n"
     ]
    },
    {
     "ename": "ModuleNotFoundError",
     "evalue": "No module named 'langchain_openai'",
     "output_type": "error",
     "traceback": [
      "\u001b[31m---------------------------------------------------------------------------\u001b[39m",
      "\u001b[31mModuleNotFoundError\u001b[39m                       Traceback (most recent call last)",
      "\u001b[36mCell\u001b[39m\u001b[36m \u001b[39m\u001b[32mIn[1]\u001b[39m\u001b[32m, line 25\u001b[39m\n\u001b[32m     23\u001b[39m \u001b[38;5;28;01mfrom\u001b[39;00m\u001b[38;5;250m \u001b[39m\u001b[34;01mctransformers\u001b[39;00m\u001b[38;5;250m \u001b[39m\u001b[38;5;28;01mimport\u001b[39;00m AutoModelForCausalLM\n\u001b[32m     24\u001b[39m \u001b[38;5;28;01mfrom\u001b[39;00m\u001b[38;5;250m \u001b[39m\u001b[34;01mlangchain\u001b[39;00m\u001b[34;01m.\u001b[39;00m\u001b[34;01mllms\u001b[39;00m\u001b[38;5;250m \u001b[39m\u001b[38;5;28;01mimport\u001b[39;00m CTransformers\n\u001b[32m---> \u001b[39m\u001b[32m25\u001b[39m \u001b[38;5;28;01mfrom\u001b[39;00m\u001b[38;5;250m \u001b[39m\u001b[34;01mlangchain_openai\u001b[39;00m\u001b[38;5;250m \u001b[39m\u001b[38;5;28;01mimport\u001b[39;00m ChatOpenAI\n\u001b[32m     26\u001b[39m \u001b[38;5;28;01mfrom\u001b[39;00m\u001b[38;5;250m \u001b[39m\u001b[34;01mlangchain\u001b[39;00m\u001b[34;01m.\u001b[39;00m\u001b[34;01mprompts\u001b[39;00m\u001b[38;5;250m \u001b[39m\u001b[38;5;28;01mimport\u001b[39;00m PromptTemplate\n\u001b[32m     27\u001b[39m \u001b[38;5;28;01mfrom\u001b[39;00m\u001b[38;5;250m \u001b[39m\u001b[34;01mlangchain\u001b[39;00m\u001b[34;01m.\u001b[39;00m\u001b[34;01mchains\u001b[39;00m\u001b[34;01m.\u001b[39;00m\u001b[34;01mquestion_answering\u001b[39;00m\u001b[38;5;250m \u001b[39m\u001b[38;5;28;01mimport\u001b[39;00m load_qa_chain\n",
      "\u001b[31mModuleNotFoundError\u001b[39m: No module named 'langchain_openai'"
     ]
    }
   ],
   "source": [
    "import logging\n",
    "import pathlib\n",
    "from langchain_core.documents import Document\n",
    "from langchain_community.vectorstores.docarray import DocArrayInMemorySearch\n",
    "from langchain_community.embeddings.huggingface import HuggingFaceEmbeddings\n",
    "from langchain_text_splitters import RecursiveCharacterTextSplitter\n",
    "from langchain_core.retrievers import BaseRetriever\n",
    "from langchain.retrievers.document_compressors import EmbeddingsFilter\n",
    "from langchain.retrievers import ContextualCompressionRetriever\n",
    "from langchain.document_loaders import (\n",
    "  PyPDFLoader, TextLoader,\n",
    "  UnstructuredWordDocumentLoader,\n",
    "  UnstructuredEPubLoader\n",
    ")\n",
    "from langchain_community.vectorstores import docarray\n",
    "from langchain.vectorstores.faiss import FAISS\n",
    "from langchain.chains.conversational_retrieval.base import ConversationalRetrievalChain\n",
    "#from langchain_openai import ChatOpenAI\n",
    "from langchain.chains.base import Chain\n",
    "from langchain.memory import ConversationBufferMemory\n",
    "import streamlit as st\n",
    "from streamlit.external.langchain import StreamlitCallbackHandler\n",
    "from ctransformers import AutoModelForCausalLM\n",
    "from langchain.llms import CTransformers\n",
    "from langchain_openai import ChatOpenAI\n",
    "from langchain.prompts import PromptTemplate\n",
    "from langchain.chains.question_answering import load_qa_chain\n",
    "from langchain.llms import OpenAI\n",
    "from transformers import LlamaForCausalLM, LlamaTokenizer\n",
    "import pickle\n",
    "import os\n",
    "import time\n",
    "import tempfile\n"
   ]
  },
  {
   "cell_type": "code",
   "execution_count": null,
   "metadata": {},
   "outputs": [],
   "source": [
    "model_name = \"meta-llama/Llama-3.1-8B-Instruct\""
   ]
  },
  {
   "cell_type": "code",
   "execution_count": null,
   "metadata": {},
   "outputs": [],
   "source": []
  },
  {
   "cell_type": "code",
   "execution_count": 2,
   "metadata": {},
   "outputs": [],
   "source": [
    "from img2table.document import PDF\n",
    "from img2table.ocr import TesseractOCR\n",
    "\n",
    "# Instantiation of the pdf\n",
    "pdf = PDF(src=\"data/publication1.pdf\")\n",
    "\n",
    "# Instantiation of the OCR, Tesseract, which requires prior installation\n",
    "ocr = TesseractOCR(lang=\"eng\")\n",
    "\n",
    "# Table identification and extraction\n",
    "pdf_tables = pdf.extract_tables(ocr=ocr)\n",
    "\n"
   ]
  },
  {
   "cell_type": "code",
   "execution_count": 3,
   "metadata": {},
   "outputs": [
    {
     "data": {
      "text/plain": [
       "{0: [], 1: [], 2: [], 3: [], 4: [], 5: [], 6: [], 7: []}"
      ]
     },
     "execution_count": 3,
     "metadata": {},
     "output_type": "execute_result"
    }
   ],
   "source": [
    "pdf_tables"
   ]
  },
  {
   "cell_type": "code",
   "execution_count": 3,
   "metadata": {},
   "outputs": [],
   "source": [
    "from pdf2image import convert_from_path\n",
    "pdf_path = \"data/publication1.pdf\"\n",
    "images = convert_from_path(pdf_path,\n",
    "                           poppler_path= r\"C:\\Program Files\\poppler\\Library\\bin\",\n",
    "                           dpi=300)  # Convert each page to an image\n",
    "for i, image in enumerate(images):\n",
    "    image.save(f\"page_{i}.png\", \"PNG\")  # Save images for OCR\n",
    "\n"
   ]
  },
  {
   "cell_type": "code",
   "execution_count": 8,
   "metadata": {},
   "outputs": [
    {
     "name": "stdout",
     "output_type": "stream",
     "text": [
      "BIOM 255 (Leffert) —- Discussion Feb. 1, 2007\n",
      "between HER-2/neu amplification and nodal status (P = 0.002) 51 52 53 54 55 56 57 58 59 60 61 62 63 64 65 66\n",
      "indicated that information on amplification of this gene ma — — = tie 2 oe\n",
      "correlate with disease behavior; that i recurrences and survival To — - - 2. ed * ba my B> ~ er\n",
      "test this, univariate survival analyses were performed in which = WM\n",
      "amplification was compared to relapse and survival in this patient =\n",
      "group. A total of 35 patients had a recurrence of the disease, and 29\n",
      "had died at the time of the analyses. Median times to relapse and\n",
      "death were 62 months and 69 months, respectively. The median Fig. 4. roe of rchybridization of fiker with human EGER probe. Filters\n",
      "follow-up time for patients still alive was 47 months, ranging from probe (2 B). in Fig’ tse ad Se ewer mo weight tk\n",
      "24 to 86 months. A total of 71 of the 86 patients (83%) received hybridized with 22P-labeled EGFR probe in filter-containing lanes 51 to 66\n",
      "some form of therapy after mastectomy: adjuvant systemic therapy (Fig. 1). The bands from top to bottom are 2.8, 2.2, and 1.8 ib, respectively.\n",
      "alone, 47%; adjuvant systemic therapy plus local radiation, 19%; Lane 52 is an example of a tumor showing marked amplification (>50\n",
      "and local radiation alone, 17%. A strong and highly statistically  °Pi€s) of the EGFR gene.\n",
      "significant correlation was found between the degree of gene\n",
      "amplification and both time to disease relapse (P = <0.0001) and patients, even when other prognostic factors were taken into\n",
      "survival (P = 0.0011) (Table 4). Moreover, when compared in account (Table 4).\n",
      "univariate analyses to other parameters, amplification of HER-2/neu Rearrangement of the HER-2/neu gene was rare. Of the total 189\n",
      "was found to be superior to all other prognostic factors, with the tumors evaluated, three showed evidence of rearrangement, and in\n",
      "exception of the number of positive nodes (which it equaled) in two of the three cases, the rearrangement was identical (Fig. 1, cases\n",
      "predicting time to relapse and overall survival in human breast 77 to 79). Also, two of the rearranged HER-2/neu loci were\n",
      "cancer (Table.4). The association between HER-2/neu amplification amplified (Fig. 1, cases 78 and 79). The incidence of HER-2/neu on\n",
      "and relapse and survival can be illustrated graphically in actuarial rearrangement as determined by Eco RI digestion was too smallto &\n",
      "survival curves (Fig. 3, A to D). While there was a somewhat attempt statistical correlations. . “\n",
      "shortened time to relapse and shorter overall survival in patients To determine whether the phenomenon of amplification of HER- ©\n",
      "having any amplification of the HER-2/neu gene in their tumors 2/neu in breast cancer extended to related growth factor receptors, >\n",
      "(Fig. 3, A and B), the greatest differences were found when all filters were analyzed with the EGFR probe (Fig. 4). Amplifica- §\n",
      "comparing patients with >5 copies of the gene to those without _ tion of the EGFR gene was found in 4/189 (2%) of the cases, and §\n",
      "amplification (single copy) (Fig. 3, C and D). Patients with greater rearrangement of the EGFR gene was found in one of those four “2\n",
      "than five copies of HER-2/nex had even shorter disease-free survival cases. The incidence of EGFR amplification and rearrangement was ©\n",
      "times (P = 0.015) and overall survival times (P = 0.06) when too small to attempt statistical correlation. Comparison of HER-2/ 5\n",
      "compared to patients with no amplification. The phenomenon of ew amplification (53/189 or 28%) with that of the EGFR gene 5\n",
      "greater gene copy number correlating with a worse prognosis has _ reveals the incidence of the former to be 14 times greater than that iy\n",
      "also been seen in evaluations of N-myc gene amplification in human of the latter, indicating that the phenomenon of gene amplification Q\n",
      "neuroblastomas (32). is not a general one for a related tyrosine kinase—specific receptor in S\n",
      "To determine if amplification of HER-2/nex was independent of human breast cancer. Moreover, studies examining alterations of >\n",
      "other known prognostic factors in predicting disease behavior, two other tyrosine kinase—specific proto-oncogenes, aél and fés, in 2\n",
      "multivariate survival analyses were performed on the 86 node- breast cancer did not show amplification of these genes (33). =\n",
      "positive cases. Amplification of the gene continued to be a strong Alterations of non—tyrosine kinase—related proto-oncogenes in these =\n",
      "prognostic factor, providing additional and independent predictive E\n",
      "information on both time to relapse and overall survival in these Table 3. Association between HER-2/neu amplification and disease parame- =\n",
      "ters in combined surveys (189 patients). 3\n",
      "elm NN NaN\n",
      "Table 2. Association between HER-2/nex amplification and disease parame- Single 2to5 5to20 >20 8\n",
      "ters in 86 breast tumors from node-positive Patients Factor* copy copies copies_—_copies Total Pt §\n",
      "Factor™ soe coe pies copies Total = Pf ER+ 91 23 14 2 130 005\n",
      "ee __ ER- 45 3 6 5 59\n",
      "Hormonal receptor status PgR+ 73 20 10 3 106 0.06\n",
      "ER+ 38 21 5 1 65 0.05 PgR- 63 6 10 4 83\n",
      "gR+ 14 <2 31 4 0 4 0.1\n",
      "PgR- 21 5 5 1 32 2-5 62 B 7 2 84 °\n",
      "Tumor size (centimeters) >5 23 4 6 3 36\n",
      "<2 18 8 3 0 29 0.09 Unknown 20 0 3 2 25\n",
      "2-5 28 12 2 1 43 Age at diagnosis (years)\n",
      ">5 6 3 4 1 14 =50 37 13 8 2 60 0.11\n",
      "Age at diagnosis (years) >50 88 13 10 5 116\n",
      "=50 16 12 6 1 35 0.06 Unknown il 0 2 0 13\n",
      ">50 36 ll 3 1 51 Number of positive lymph nodes\n",
      "Number of positive lymph nodes 0 30 0 3 1 34 0.002\n",
      "1-3 31 7 5 0 43 0.06 1-3 51 7 6 1 65\n",
      ">3 21 16 4 2 43 >3 38 18 8 4 68\n",
      "*ER and PgR are as described in Table 1. +Statistical analyses for correlation Of\n",
      "HER-2/nex amplification with various discase ‘Parameters were performed by the x? *ER and PgR are as described in Table 1. tStatistical analyses for correlation of\n",
      "test. P values were computed after combining the 5 to 20 and >20 cases, since there - HER-2/nex amplification with various disease parameters were performed by the x?\n",
      "were so few samples in the >20 group. test. P values were computed after combining the cases with 5 to 20 and >20 copies.\n",
      "180 SCIENCE, VOL. 235\n",
      "\n"
     ]
    }
   ],
   "source": [
    "import pytesseract\n",
    "\n",
    "table_text = pytesseract.image_to_string(\"page_5.png\", config=\"--psm 6\")  # Page segmentation mode 6 for tables\n",
    "print(table_text)"
   ]
  },
  {
   "cell_type": "code",
   "execution_count": 7,
   "metadata": {},
   "outputs": [
    {
     "name": "stdout",
     "output_type": "stream",
     "text": [
      "5.5.0.20241111\n"
     ]
    }
   ],
   "source": [
    "import pytesseract\n",
    "\n",
    "# Windows example\n",
    "pytesseract.pytesseract.tesseract_cmd = r\"C:\\Program Files\\Tesseract-OCR\\tesseract.exe\"\n",
    "\n",
    "# Linux/Mac (if not in default location)\n",
    "# pytesseract.pytesseract.tesseract_cmd = \"/usr/bin/tesseract\"\n",
    "\n",
    "print(pytesseract.get_tesseract_version())"
   ]
  },
  {
   "cell_type": "code",
   "execution_count": null,
   "metadata": {},
   "outputs": [],
   "source": []
  },
  {
   "cell_type": "code",
   "execution_count": 3,
   "metadata": {},
   "outputs": [
    {
     "data": {
      "text/plain": [
       "'2.1.0'"
      ]
     },
     "execution_count": 3,
     "metadata": {},
     "output_type": "execute_result"
    }
   ],
   "source": [
    "import numpy \n",
    "numpy.__version__"
   ]
  },
  {
   "cell_type": "code",
   "execution_count": null,
   "metadata": {},
   "outputs": [],
   "source": [
    "# We can also create an excel file with the tables\n",
    "pdf.to_xlsx('tables.xlsx',\n",
    "            ocr=ocr)"
   ]
  }
 ],
 "metadata": {
  "kernelspec": {
   "display_name": "Python 3",
   "language": "python",
   "name": "python3"
  },
  "language_info": {
   "codemirror_mode": {
    "name": "ipython",
    "version": 3
   },
   "file_extension": ".py",
   "mimetype": "text/x-python",
   "name": "python",
   "nbconvert_exporter": "python",
   "pygments_lexer": "ipython3",
   "version": "3.12.0"
  }
 },
 "nbformat": 4,
 "nbformat_minor": 2
}
